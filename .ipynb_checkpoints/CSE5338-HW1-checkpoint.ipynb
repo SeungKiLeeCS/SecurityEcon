{
 "cells": [
  {
   "cell_type": "markdown",
   "metadata": {},
   "source": [
    "# CSE 5338 Homework 1."
   ]
  },
  {
   "cell_type": "markdown",
   "metadata": {},
   "source": [
    "## Q1. \n",
    "\n",
    "Identification: Facebook Identifies the user for New York Times by the user's information such as ID, email address, and \n",
    "\n",
    "Authentication: Facebook Authenticates the user by requesting the login information.\n",
    "\n",
    "Authorization: New York Times Authorizes the user u"
   ]
  },
  {
   "cell_type": "markdown",
   "metadata": {},
   "source": [
    "## Q2. \n",
    "\n",
    "### a.\n",
    "\n",
    "### b.\n",
    "\n"
   ]
  },
  {
   "cell_type": "markdown",
   "metadata": {},
   "source": [
    "## Q3. \n",
    "\n",
    "### a.\n",
    "curve 3 is most preferred. Both false positive and false negative are error in the system we seek to minimize, and the IC3 has the potential lowest value for both errors. It also contains the optimal point of utility with the lowest $\\alpha$ & $\\beta$\n",
    "\n",
    "### b.\n",
    "\n",
    "The utility curve for given ICs will have every data point located at the point where $\\alpha = \\beta$ because of assumption (l,h) ~ (h,l). Meanwhile, the Utility will increase as it approaches 0 and decrease as total value of errors increase.\n",
    "\n"
   ]
  },
  {
   "cell_type": "markdown",
   "metadata": {},
   "source": [
    "## Q4. \n",
    "\n"
   ]
  },
  {
   "cell_type": "markdown",
   "metadata": {},
   "source": [
    "## Q5. \n",
    "\n"
   ]
  },
  {
   "cell_type": "markdown",
   "metadata": {},
   "source": [
    "## Q6. \n",
    "\n"
   ]
  }
 ],
 "metadata": {
  "kernelspec": {
   "display_name": "Python 3",
   "language": "python",
   "name": "python3"
  },
  "language_info": {
   "codemirror_mode": {
    "name": "ipython",
    "version": 3
   },
   "file_extension": ".py",
   "mimetype": "text/x-python",
   "name": "python",
   "nbconvert_exporter": "python",
   "pygments_lexer": "ipython3",
   "version": "3.6.4"
  }
 },
 "nbformat": 4,
 "nbformat_minor": 2
}
