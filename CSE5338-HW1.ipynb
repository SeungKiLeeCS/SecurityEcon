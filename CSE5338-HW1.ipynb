{
 "cells": [
  {
   "cell_type": "markdown",
   "metadata": {},
   "source": [
    "# CSE 5338 Homework 1.\n",
    "\n",
    "Seung Ki Lee  \n",
    "35460312  "
   ]
  },
  {
   "cell_type": "markdown",
   "metadata": {},
   "source": [
    "## Q1. \n",
    "\n",
    "**Identification**: Facebook Identifies the user for New York Times by the user's information such as ID, email address, and \n",
    "\n",
    "**Authentication**: Facebook Authenticates the user by requesting the login information.\n",
    "\n",
    "**Authorization**: New York Times Authorizes the user u"
   ]
  },
  {
   "cell_type": "markdown",
   "metadata": {},
   "source": [
    "## Q2. \n",
    "\n",
    "### a.\n",
    "FERPA form, that every student has to fill out every year is a classic example where confidentiality and availability clashes. It would be easier for both parents and students if you can just give out your academic record on demand, but that will increase the chance of unauthorized person getting hold of your sensitive personal information. Medical records are another example that posesses the same conflict.\n",
    "\n",
    "### b.\n",
    "\n",
    "Wikipedia is a \n"
   ]
  },
  {
   "cell_type": "markdown",
   "metadata": {},
   "source": [
    "## Q3. \n",
    "\n",
    "### a.\n",
    "curve 3 is most preferred. Both false positive and false negative are error in the system we seek to minimize, and the IC3 has the lowest value for both errors. It also contains the optimal point of utility with the lowest $\\alpha$ & $\\beta$\n",
    "\n",
    "### b.\n",
    "\n",
    "The utility function for given ICs will have every data point located at the point where $\\alpha = \\beta$ because of assumption (l,h) ~ (h,l). Meanwhile, the second assumption shows Utility will increase as it approaches 0 and decrease as total value of errors increase. As shown in:\n",
    "\n",
    "![utility_curve_1](./hw1-3b.png)\n",
    "\n",
    "### c.\n",
    "\n",
    "If the U($\\alpha, \\beta$) depends on limiting false negative, then the model would simplify to U($\\alpha, \\beta$) = $(u \\times \\beta)^{-1}$ + $(0 \\times \\alpha)^{-1}$. In this case, the sole utility is derived from minimizing the $\\beta$ value. Thus at every IC, the data point will lie on the far right side. As shown in:\n",
    "\n",
    "![utility_curve_2](./hw1-3c.png)\n",
    "\n",
    "First Scenario where less false positive is desirable even at the cost of false negative rate: If we are sending people to jail, it would be more desirable to minimize the false positive rate - thus pro dubio in reo.\n",
    "\n",
    "Second Scenario: If the cost of reacting to the positive alert is more expansive then the consequences of the negative. For instance, a car company will be very specific and tight on \n",
    "\n",
    "In essene if it is a situation where you would not want to reject the null hypothesis that is true = do not take follow up action when it is needed, it is safe to assume that minimizing false positive is crucial."
   ]
  },
  {
   "cell_type": "markdown",
   "metadata": {},
   "source": [
    "## Q4. \n",
    "\n",
    "### a.\n",
    "|Expected Utility(Not)| = 0.01 * $5,000,000 = $50,000  \n",
    "|Expected Utility (Do)|  = $25,000  \n",
    "\n",
    "The price for protection is lower then expected cost of not having a protection, so it is more desirable to purchase the protection.\n",
    "\n",
    "### b.\n",
    "\n",
    "Expected Cost (Not) = x * 5,000,000  \n",
    "Expected Cost (Do) = $25,000\n",
    "\n",
    "$x = {25,000 \\over 5,000,000} = {1 \\over 200} = 0.005 = 0.5\\%$\n",
    "\n",
    "As long as the probability of DDoS attack is greater than 0.5%, the company will justify paying for the protection."
   ]
  },
  {
   "cell_type": "markdown",
   "metadata": {},
   "source": [
    "## Q5. \n",
    "\n"
   ]
  },
  {
   "cell_type": "markdown",
   "metadata": {},
   "source": [
    "## Q6. \n",
    "\n",
    "Roughly 4.5 hours. (3:30 pm ~ 5:00pm + 7:00pm ~ 10:00pm)"
   ]
  }
 ],
 "metadata": {
  "kernelspec": {
   "display_name": "Python 3",
   "language": "python",
   "name": "python3"
  },
  "language_info": {
   "codemirror_mode": {
    "name": "ipython",
    "version": 3
   },
   "file_extension": ".py",
   "mimetype": "text/x-python",
   "name": "python",
   "nbconvert_exporter": "python",
   "pygments_lexer": "ipython3",
   "version": "3.6.4"
  }
 },
 "nbformat": 4,
 "nbformat_minor": 2
}
