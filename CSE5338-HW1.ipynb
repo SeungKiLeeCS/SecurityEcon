{
 "cells": [
  {
   "cell_type": "markdown",
   "metadata": {},
   "source": [
    "# CSE 5338 Homework 1.\n",
    "\n",
    "Seung Ki Lee  \n",
    "35460312  "
   ]
  },
  {
   "cell_type": "markdown",
   "metadata": {},
   "source": [
    "## Q1. \n",
    "\n",
    "**Identification**: Asks the question \"Who are you?\" Facebook Identifies the user for New York Times by the user's information such as ID and email address.\n",
    "\n",
    "**Authentication**: Asks the question \"Are you who you say you are?\" Facebook Authenticates the user by requesting the login information.\n",
    "\n",
    "**Authorization**: Asks the question \"Do you have access to the data you are asking for?\" New York Times Authorizes the user with the information FB provides them."
   ]
  },
  {
   "cell_type": "markdown",
   "metadata": {},
   "source": [
    "## Q2. \n",
    "\n",
    "### a.\n",
    "FERPA form, that every student has to fill out every year is a classic example where confidentiality and availability clashes. It would be easier for both parents and students if you can just give out your academic record on demand, but that will increase the chance of unauthorized person getting hold of your sensitive personal information. Medical records are another example that posesses the same conflict.\n",
    "\n",
    "### b.\n",
    "\n",
    "Wikipedia is a good example where these two colide. For the availability of information Wikipedia relies on independent user submissions, but because of that very reason they cannot screen and guarantee that the information on the wiki has any integrity.\n"
   ]
  },
  {
   "cell_type": "markdown",
   "metadata": {},
   "source": [
    "## Q3. \n",
    "\n",
    "### a.\n",
    "curve 3 is most preferred. Both false positive and false negative are error in the system we seek to minimize, and the IC3 has the lowest value for both errors. It also contains the optimal point of utility with the lowest $\\alpha$ & $\\beta$\n",
    "\n",
    "### b.\n",
    "\n",
    "The utility function for given ICs will have every data point located at the point where $\\alpha = \\beta$ because of assumption (l,h) ~ (h,l). Meanwhile, the second assumption shows Utility will increase as it approaches 0 and decrease as total value of errors increase. As shown in:\n",
    "\n",
    "![utility_curve_1](./hw1-3b.png)\n",
    "\n",
    "### c.\n",
    "\n",
    "If the U($\\alpha, \\beta$) depends on limiting false negative, then the model would simplify to U($\\alpha, \\beta$) = $(u \\times \\beta)^{-1}$ + $(0 \\times \\alpha)^{-1}$. In this case, the sole utility is derived from minimizing the $\\beta$ value. Thus at every IC, the data point will lie on the far right side. As shown in:\n",
    "\n",
    "![utility_curve_2](./hw1-3d.png)\n",
    "\n",
    "First Scenario where less false positive is desirable even at the cost of false negative rate: If we are sending people to jail, it would be more desirable to minimize the false positive rate - thus pro dubio in reo.\n",
    "\n",
    "Second Scenario: If the cost of reacting to the positive alert is more expansive then the consequences of the negative. For instance, a car company will be very specific and tight on \n",
    "\n",
    "In essene if it is a situation where you would not want to reject the null hypothesis that is true = do not take follow up action when it is needed, it is safe to assume that minimizing false positive is crucial."
   ]
  },
  {
   "cell_type": "markdown",
   "metadata": {},
   "source": [
    "## Q4. \n",
    "\n",
    "### a.\n",
    "$|Expected Utility(Not)| = 0.01 * \\$5,000,000 = \\$50,000  $  \n",
    "$|Expected Utility (Do)|  = \\$25,000  $  \n",
    "\n",
    "The price for protection is lower then expected cost of not having a protection, so it is more desirable to purchase the protection.\n",
    "\n",
    "### b.\n",
    "\n",
    "$Expected Cost (Not) = x * \\$5,000,000  $  \n",
    "$Expected Cost (Do) = \\$25,000 $  \n",
    "\n",
    "$x = {25,000 \\over 5,000,000} = {1 \\over 200} = 0.005 = 0.5\\%$\n",
    "\n",
    "As long as the probability of DDoS attack is greater than 0.5%, the company will justify paying for the protection."
   ]
  },
  {
   "cell_type": "markdown",
   "metadata": {},
   "source": [
    "## Q5. \n",
    "\n",
    "### 1. Enough\n",
    "It is rather difficult to come up with definitive evidence that these facilities are adequately protected because there is no hard number available for how much is going into the cybersecurity in these facilities. Therefore the evidence has to be somewhat circumstantial. This does not mean this evidence is weak by any chance because United States has never experienced critical cyber attack on its infrastruture. Even when the bill was proposed, Predident Obama mentioned himself that \"So far, no one has managed to seriously damange or disrupt our critical infrastructure networks.\"[1] This is remarkable because many of the major countries including China and South Korea has experienced a successful cyberattack. In this case, the abscence of record advocates for presence of strong protection.\n",
    "\n",
    "### 2. Not Enough\n",
    "A case for underprotection is easy to prove.  \n",
    "\n",
    "```\n",
    "let E(damage) be estimated dollar value of \n",
    "let E(cost) be current annual cost of protection\n",
    "let P(damage) be probability of market failure -> failure of critical infra\n",
    "\n",
    "if [ E(damage) x P(damage) ] > E(cost):\n",
    "    Return \"We need to spend more\"\n",
    "else:\n",
    "    Return \"We good :)\"\n",
    "```\n",
    "\n",
    "In the year 2016, United States govenrment spent 18,538,752 dollars on Cyber security[2]. Cost of simply building a nuclear power plant in 2016, a critical infrastructure, is estimated to be 9 Billion [3]. Since 9,000,000,000 x 0.00206 = 18,530,000, if the P(damage) is greater than 0.206% then we are not putting in enough funding for protection of a nuclear power plant. Since there are 61 commercially operating nuclear power plants in US[4], P(damage) becomes 0.00338%. This number is same as probability of 9/11 excecuting out exactly as it did [5].\n",
    "\n",
    "\n",
    "__SOURCE__  \n",
    "[[1]](https://www.forbes.com/sites/jodywestby/2012/07/27/urgent-businesess-must-act-to-stop-congress-on-cyber-legislation/#7718893e1286)  \n",
    "[[2]](https://hewlett.org/qa-ryan-alexander-much-u-s-government-spending-cybersecurity/)  \n",
    "[[3]](https://www.ucsusa.org/nuclear-power/cost-nuclear-power#.W6GjQ15KiUk)  \n",
    "[[4]](https://www.eia.gov/tools/faqs/faq.php?id=207&t=3)  \n",
    "[[5]](http://911review.com/means/index.html)  "
   ]
  },
  {
   "cell_type": "markdown",
   "metadata": {},
   "source": [
    "## Q6. \n",
    "\n",
    "Roughly 4.5 hours. (3:30 pm ~ 5:00pm + 7:00pm ~ 10:00pm)"
   ]
  }
 ],
 "metadata": {
  "kernelspec": {
   "display_name": "Python 3",
   "language": "python",
   "name": "python3"
  },
  "language_info": {
   "codemirror_mode": {
    "name": "ipython",
    "version": 3
   },
   "file_extension": ".py",
   "mimetype": "text/x-python",
   "name": "python",
   "nbconvert_exporter": "python",
   "pygments_lexer": "ipython3",
   "version": "3.6.6"
  }
 },
 "nbformat": 4,
 "nbformat_minor": 2
}
